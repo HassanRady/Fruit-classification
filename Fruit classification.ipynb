{
 "cells": [
  {
   "cell_type": "code",
   "execution_count": 1,
   "metadata": {},
   "outputs": [],
   "source": [
    "import numpy as np\n",
    "import pandas as pd\n",
    "import matplotlib.pyplot as plt\n",
    "from tensorflow.keras.layers import Conv2D,Dense,Dropout,Flatten,MaxPool2D,BatchNormalization\n",
    "from tensorflow.keras.models import Sequential\n",
    "from sklearn.model_selection import train_test_split\n",
    "import tensorflow as tf\n",
    "import os\n",
    "import cv2\n",
    "import time\n",
    "\n",
    "np.random.seed(1)"
   ]
  },
  {
   "cell_type": "code",
   "execution_count": 2,
   "metadata": {},
   "outputs": [
    {
     "name": "stdout",
     "output_type": "stream",
     "text": [
      "Default GPU Device: /device:GPU:0\n"
     ]
    }
   ],
   "source": [
    "if not tf.test.gpu_device_name():\n",
    "    warnings.warn('No GPU found. Please ensure you have installed TensorFlow correctly')\n",
    "else:\n",
    "    print('Default GPU Device: {}'.format(tf.test.gpu_device_name()))"
   ]
  },
  {
   "cell_type": "code",
   "execution_count": 3,
   "metadata": {},
   "outputs": [],
   "source": [
    "target_shape = (200,200)\n",
    "train_imgs = []\n",
    "train_labels = []\n",
    "train_file = './train_zip/train'\n",
    "\n",
    "for file in os.listdir(train_file):\n",
    "#     if the file have jpg its an image\n",
    "    if file.split('.')[1] == 'jpg':\n",
    "        img = cv2.imread(os.path.join(train_file,file))\n",
    "#         converting images to rgb \n",
    "        img = cv2.cvtColor(img,cv2.COLOR_BGR2RGB)\n",
    "#       appending labels\n",
    "        train_labels.append(file.split('_')[0])\n",
    "#       resizing images\n",
    "        img = cv2.resize(img,target_shape)\n",
    "        train_imgs.append(img)\n",
    "\n",
    "# converting labesls to one hot encoded  \n",
    "train_labels = pd.get_dummies(train_labels).values\n",
    "train_imgs = np.array(train_imgs)\n",
    "\n",
    "# spliting data into train and valid sets\n",
    "x_train,x_valid,y_train,y_valid = train_test_split(train_imgs,train_labels,random_state=1,test_size=0.2)"
   ]
  },
  {
   "cell_type": "code",
   "execution_count": 4,
   "metadata": {},
   "outputs": [],
   "source": [
    "test_imgs = []\n",
    "test_labels = []\n",
    "test_file = \"./test_zip/test\"\n",
    "\n",
    "for file in os.listdir(test_file):\n",
    "    if file.split(\".\")[1] == \"jpg\":\n",
    "#       if the file have jpg its an image\n",
    "        img = cv2.imread(os.path.join(test_file,file))\n",
    "    #   converting images to rgb \n",
    "        img = cv2.cvtColor(img,cv2.COLOR_BGR2RGB)\n",
    "        # appending labels\n",
    "        test_labels.append(file.split(\"_\")[0])\n",
    "        img = cv2.resize(img,target_shape)\n",
    "        test_imgs.append(img)\n",
    "        \n",
    "# converting labesls to one hot encoded          \n",
    "test_labels = pd.get_dummies(test_labels).values\n",
    "test_imgs = np.array(test_imgs)"
   ]
  },
  {
   "cell_type": "code",
   "execution_count": 5,
   "metadata": {},
   "outputs": [
    {
     "name": "stdout",
     "output_type": "stream",
     "text": [
      "Model: \"sequential\"\n",
      "_________________________________________________________________\n",
      "Layer (type)                 Output Shape              Param #   \n",
      "=================================================================\n",
      "conv2d (Conv2D)              (None, 198, 198, 16)      448       \n",
      "_________________________________________________________________\n",
      "batch_normalization (BatchNo (None, 198, 198, 16)      64        \n",
      "_________________________________________________________________\n",
      "max_pooling2d (MaxPooling2D) (None, 99, 99, 16)        0         \n",
      "_________________________________________________________________\n",
      "conv2d_1 (Conv2D)            (None, 97, 97, 16)        2320      \n",
      "_________________________________________________________________\n",
      "batch_normalization_1 (Batch (None, 97, 97, 16)        64        \n",
      "_________________________________________________________________\n",
      "max_pooling2d_1 (MaxPooling2 (None, 48, 48, 16)        0         \n",
      "_________________________________________________________________\n",
      "conv2d_2 (Conv2D)            (None, 46, 46, 16)        2320      \n",
      "_________________________________________________________________\n",
      "batch_normalization_2 (Batch (None, 46, 46, 16)        64        \n",
      "_________________________________________________________________\n",
      "max_pooling2d_2 (MaxPooling2 (None, 23, 23, 16)        0         \n",
      "_________________________________________________________________\n",
      "flatten (Flatten)            (None, 8464)              0         \n",
      "_________________________________________________________________\n",
      "dropout (Dropout)            (None, 8464)              0         \n",
      "_________________________________________________________________\n",
      "dense (Dense)                (None, 128)               1083520   \n",
      "_________________________________________________________________\n",
      "dropout_1 (Dropout)          (None, 128)               0         \n",
      "_________________________________________________________________\n",
      "dense_1 (Dense)              (None, 32)                4128      \n",
      "_________________________________________________________________\n",
      "dense_2 (Dense)              (None, 4)                 132       \n",
      "=================================================================\n",
      "Total params: 1,093,060\n",
      "Trainable params: 1,092,964\n",
      "Non-trainable params: 96\n",
      "_________________________________________________________________\n"
     ]
    }
   ],
   "source": [
    "# bulding the model architecture\n",
    "model = Sequential()\n",
    "\n",
    "model.add(Conv2D(kernel_size=(3,3),filters=16,activation='relu',input_shape=(200,200,3,)))\n",
    "model.add(BatchNormalization())\n",
    "model.add(MaxPool2D(2,2))\n",
    "model.add(Conv2D(kernel_size=(3,3),filters=16,activation='relu'))\n",
    "model.add(BatchNormalization())\n",
    "model.add(MaxPool2D(2,2))\n",
    "model.add(Conv2D(kernel_size=(3,3),filters=16,activation='relu'))\n",
    "model.add(BatchNormalization())\n",
    "model.add(MaxPool2D(2,2))\n",
    "model.add(Flatten())\n",
    "model.add(Dropout(0.4))\n",
    "model.add(Dense(128,activation='relu'))\n",
    "model.add(Dropout(0.2))\n",
    "model.add(Dense(32,activation='relu'))\n",
    "model.add(Dense(4,activation='softmax'))\n",
    "\n",
    "model.summary()"
   ]
  },
  {
   "cell_type": "code",
   "execution_count": 6,
   "metadata": {},
   "outputs": [],
   "source": [
    "# compiling the model using adam optimizer and cros entropy loss\n",
    "model.compile(optimizer='adam',loss='categorical_crossentropy',metrics=['accuracy'])"
   ]
  },
  {
   "cell_type": "code",
   "execution_count": 7,
   "metadata": {},
   "outputs": [
    {
     "name": "stdout",
     "output_type": "stream",
     "text": [
      "Train on 192 samples, validate on 48 samples\n",
      "Epoch 1/50\n",
      "192/192 [==============================] - 3s 17ms/sample - loss: 1.6019 - accuracy: 0.5156 - val_loss: 5.4234 - val_accuracy: 0.5833\n",
      "Epoch 2/50\n",
      "192/192 [==============================] - 0s 1ms/sample - loss: 0.4283 - accuracy: 0.8490 - val_loss: 3.4315 - val_accuracy: 0.5417\n",
      "Epoch 3/50\n",
      "192/192 [==============================] - 0s 1ms/sample - loss: 0.1504 - accuracy: 0.9375 - val_loss: 4.6800 - val_accuracy: 0.5208\n",
      "Epoch 4/50\n",
      "192/192 [==============================] - 0s 1ms/sample - loss: 0.0524 - accuracy: 0.9844 - val_loss: 3.8364 - val_accuracy: 0.5208\n",
      "Epoch 5/50\n",
      "192/192 [==============================] - 0s 1ms/sample - loss: 0.0744 - accuracy: 0.9896 - val_loss: 3.6919 - val_accuracy: 0.5417\n",
      "Epoch 6/50\n",
      "192/192 [==============================] - 0s 1ms/sample - loss: 0.0215 - accuracy: 0.9948 - val_loss: 4.0804 - val_accuracy: 0.5417\n",
      "Epoch 7/50\n",
      "192/192 [==============================] - 0s 1ms/sample - loss: 0.0688 - accuracy: 0.9896 - val_loss: 3.1617 - val_accuracy: 0.6042\n",
      "Epoch 8/50\n",
      "192/192 [==============================] - 0s 1ms/sample - loss: 0.0245 - accuracy: 0.9948 - val_loss: 2.1225 - val_accuracy: 0.6875\n",
      "Epoch 9/50\n",
      "192/192 [==============================] - 0s 1ms/sample - loss: 0.0138 - accuracy: 0.9948 - val_loss: 1.6720 - val_accuracy: 0.7083\n",
      "Epoch 10/50\n",
      "192/192 [==============================] - 0s 1ms/sample - loss: 0.0125 - accuracy: 0.9948 - val_loss: 1.5301 - val_accuracy: 0.6875\n",
      "Epoch 11/50\n",
      "192/192 [==============================] - 0s 1ms/sample - loss: 0.0245 - accuracy: 0.9896 - val_loss: 1.4330 - val_accuracy: 0.7083\n",
      "Epoch 12/50\n",
      "192/192 [==============================] - 0s 1ms/sample - loss: 0.0105 - accuracy: 1.0000 - val_loss: 1.2674 - val_accuracy: 0.7292\n",
      "Epoch 13/50\n",
      "192/192 [==============================] - 0s 1ms/sample - loss: 0.0059 - accuracy: 1.0000 - val_loss: 1.1455 - val_accuracy: 0.7500\n",
      "Epoch 14/50\n",
      "192/192 [==============================] - 0s 1ms/sample - loss: 0.0017 - accuracy: 1.0000 - val_loss: 1.1077 - val_accuracy: 0.7500\n",
      "Epoch 15/50\n",
      "192/192 [==============================] - 0s 1ms/sample - loss: 0.0055 - accuracy: 0.9948 - val_loss: 0.9703 - val_accuracy: 0.7500\n",
      "Epoch 16/50\n",
      "192/192 [==============================] - 0s 1ms/sample - loss: 0.0090 - accuracy: 0.9948 - val_loss: 0.8531 - val_accuracy: 0.7708\n",
      "Epoch 17/50\n",
      "192/192 [==============================] - 0s 1ms/sample - loss: 0.0123 - accuracy: 0.9948 - val_loss: 0.7670 - val_accuracy: 0.7708\n",
      "Epoch 18/50\n",
      "192/192 [==============================] - 0s 1ms/sample - loss: 0.0025 - accuracy: 1.0000 - val_loss: 0.6544 - val_accuracy: 0.7708\n",
      "Epoch 19/50\n",
      "192/192 [==============================] - 0s 1ms/sample - loss: 0.0121 - accuracy: 0.9948 - val_loss: 0.5864 - val_accuracy: 0.7917\n",
      "Epoch 20/50\n",
      "192/192 [==============================] - 0s 1ms/sample - loss: 0.0016 - accuracy: 1.0000 - val_loss: 0.5601 - val_accuracy: 0.8125\n",
      "Epoch 21/50\n",
      "192/192 [==============================] - 0s 1ms/sample - loss: 0.0046 - accuracy: 1.0000 - val_loss: 0.5836 - val_accuracy: 0.8125\n",
      "Epoch 22/50\n",
      "192/192 [==============================] - 0s 1ms/sample - loss: 0.0028 - accuracy: 1.0000 - val_loss: 0.6229 - val_accuracy: 0.7917\n",
      "Epoch 23/50\n",
      "192/192 [==============================] - 0s 1ms/sample - loss: 0.0033 - accuracy: 1.0000 - val_loss: 0.6853 - val_accuracy: 0.7708\n",
      "Epoch 24/50\n",
      "192/192 [==============================] - 0s 1ms/sample - loss: 0.0090 - accuracy: 0.9948 - val_loss: 0.7731 - val_accuracy: 0.7708\n",
      "Epoch 25/50\n",
      "192/192 [==============================] - 0s 1ms/sample - loss: 8.6416e-04 - accuracy: 1.0000 - val_loss: 0.9752 - val_accuracy: 0.7917\n",
      "Epoch 26/50\n",
      "192/192 [==============================] - 0s 1ms/sample - loss: 0.0299 - accuracy: 0.9896 - val_loss: 0.7239 - val_accuracy: 0.7917\n",
      "Epoch 27/50\n",
      "192/192 [==============================] - 0s 1ms/sample - loss: 0.0152 - accuracy: 0.9948 - val_loss: 0.5830 - val_accuracy: 0.8125\n",
      "Epoch 28/50\n",
      "192/192 [==============================] - 0s 1ms/sample - loss: 0.0127 - accuracy: 0.9948 - val_loss: 0.5370 - val_accuracy: 0.8125\n",
      "Epoch 29/50\n",
      "192/192 [==============================] - 0s 1ms/sample - loss: 0.1622 - accuracy: 0.9948 - val_loss: 0.6237 - val_accuracy: 0.7917\n",
      "Epoch 30/50\n",
      "192/192 [==============================] - 0s 1ms/sample - loss: 0.0134 - accuracy: 0.9948 - val_loss: 0.9140 - val_accuracy: 0.7708\n",
      "Epoch 31/50\n",
      "192/192 [==============================] - 0s 1ms/sample - loss: 0.0044 - accuracy: 1.0000 - val_loss: 2.1488 - val_accuracy: 0.6250\n",
      "Epoch 32/50\n",
      "192/192 [==============================] - 0s 1ms/sample - loss: 0.0225 - accuracy: 0.9896 - val_loss: 5.9893 - val_accuracy: 0.5000\n",
      "Epoch 33/50\n",
      "192/192 [==============================] - 0s 1ms/sample - loss: 0.0106 - accuracy: 0.9948 - val_loss: 7.8806 - val_accuracy: 0.4583\n",
      "Epoch 34/50\n",
      "192/192 [==============================] - 0s 1ms/sample - loss: 0.0318 - accuracy: 0.9948 - val_loss: 3.7458 - val_accuracy: 0.5625\n",
      "Epoch 35/50\n",
      "192/192 [==============================] - 0s 1ms/sample - loss: 0.0060 - accuracy: 0.9948 - val_loss: 1.2405 - val_accuracy: 0.7917\n",
      "Epoch 36/50\n",
      "192/192 [==============================] - 0s 1ms/sample - loss: 0.0205 - accuracy: 0.9896 - val_loss: 1.1706 - val_accuracy: 0.8333\n",
      "Epoch 37/50\n",
      "192/192 [==============================] - 0s 1ms/sample - loss: 0.0061 - accuracy: 1.0000 - val_loss: 1.1332 - val_accuracy: 0.8333\n",
      "Epoch 38/50\n",
      "192/192 [==============================] - 0s 1ms/sample - loss: 0.0119 - accuracy: 0.9896 - val_loss: 0.9962 - val_accuracy: 0.8333\n",
      "Epoch 39/50\n",
      "192/192 [==============================] - 0s 1ms/sample - loss: 0.0134 - accuracy: 0.9948 - val_loss: 0.9310 - val_accuracy: 0.8542\n",
      "Epoch 40/50\n",
      "192/192 [==============================] - 0s 1ms/sample - loss: 0.0093 - accuracy: 0.9948 - val_loss: 1.3363 - val_accuracy: 0.7292\n",
      "Epoch 41/50\n",
      "192/192 [==============================] - 0s 1ms/sample - loss: 0.0305 - accuracy: 0.9844 - val_loss: 1.5201 - val_accuracy: 0.7292\n",
      "Epoch 42/50\n",
      "192/192 [==============================] - 0s 1ms/sample - loss: 0.0056 - accuracy: 1.0000 - val_loss: 1.4026 - val_accuracy: 0.8125\n",
      "Epoch 43/50\n",
      "192/192 [==============================] - 0s 1ms/sample - loss: 0.0014 - accuracy: 1.0000 - val_loss: 1.2723 - val_accuracy: 0.8542\n",
      "Epoch 44/50\n",
      "192/192 [==============================] - 0s 1ms/sample - loss: 0.0066 - accuracy: 0.9948 - val_loss: 1.1106 - val_accuracy: 0.8333\n",
      "Epoch 45/50\n",
      "192/192 [==============================] - 0s 1ms/sample - loss: 0.0280 - accuracy: 0.9844 - val_loss: 0.8139 - val_accuracy: 0.8542\n",
      "Epoch 46/50\n",
      "192/192 [==============================] - 0s 1ms/sample - loss: 1.4886e-04 - accuracy: 1.0000 - val_loss: 0.7519 - val_accuracy: 0.8750\n",
      "Epoch 47/50\n",
      "192/192 [==============================] - 0s 1ms/sample - loss: 0.0113 - accuracy: 0.9948 - val_loss: 0.8649 - val_accuracy: 0.8750\n",
      "Epoch 48/50\n",
      "192/192 [==============================] - 0s 1ms/sample - loss: 8.1862e-04 - accuracy: 1.0000 - val_loss: 1.3645 - val_accuracy: 0.8333\n",
      "Epoch 49/50\n",
      "192/192 [==============================] - 0s 1ms/sample - loss: 0.0227 - accuracy: 0.9948 - val_loss: 1.0621 - val_accuracy: 0.8542\n",
      "Epoch 50/50\n",
      "192/192 [==============================] - 0s 1ms/sample - loss: 0.0034 - accuracy: 1.0000 - val_loss: 0.7296 - val_accuracy: 0.8958\n",
      "Model trained in 14.6187 sec\n"
     ]
    }
   ],
   "source": [
    "# training the model\n",
    "epochs = 50\n",
    "batch_size = 50\n",
    "\n",
    "start = time.time()\n",
    "\n",
    "trained_model = model.fit(x_train,y_train,epochs=epochs,batch_size=batch_size,validation_data=(x_valid,y_valid))\n",
    "\n",
    "total_time = time.time() - start\n",
    "\n",
    "print(\"Model trained in {:.4f} sec\".format(total_time))"
   ]
  },
  {
   "cell_type": "code",
   "execution_count": 8,
   "metadata": {},
   "outputs": [
    {
     "data": {
      "image/png": "[encoded data removed]",
      "text/plain": [
       "<Figure size 1080x576 with 2 Axes>"
      ]
     },
     "metadata": {
      "needs_background": "light"
     },
     "output_type": "display_data"
    }
   ],
   "source": [
    "# plotting the loss and accuracy curve for each phase\n",
    "train_loss = trained_model.history['loss']\n",
    "val_loss = trained_model.history['val_loss']\n",
    "train_acc = trained_model.history['accuracy']\n",
    "val_acc = trained_model.history['val_accuracy']\n",
    "\n",
    "epochs_range = range(epochs)\n",
    "\n",
    "plt.figure(figsize=(15,8))\n",
    "\n",
    "plt.subplot(1,2,1)\n",
    "plt.plot(epochs_range,train_loss,label=\"train_loss\")\n",
    "plt.plot(epochs_range,val_loss,label=\"val_loss\")\n",
    "plt.legend(loc=0)\n",
    "plt.title(\"Loss\")\n",
    "\n",
    "plt.subplot(1,2,2)\n",
    "plt.plot(epochs_range,train_acc,label=\"train_acc\")\n",
    "plt.plot(epochs_range,val_acc,label=\"val_acc\")\n",
    "plt.legend(loc=0)\n",
    "plt.title(\"Accuracy\")\n",
    "\n",
    "plt.show()"
   ]
  },
  {
   "cell_type": "code",
   "execution_count": 11,
   "metadata": {},
   "outputs": [
    {
     "name": "stdout",
     "output_type": "stream",
     "text": [
      "\r",
      "60/1 [========================================================================================================================================================================================================================================================================================================================================================================================================================================================================================================================================================================================================================================================================================================================================================================================================================================================================================================================================================================================================================================================================================================================================================================================================================================================================================================================================================================================================================================================================================================================================================================================================================================================================================================================================================================================================================================================================] - 1s 10ms/sample - loss: 1.7155 - accuracy: 0.8833\n"
     ]
    },
    {
     "data": {
      "text/plain": [
       "[1.7437969048817952, 0.8833333]"
      ]
     },
     "execution_count": 11,
     "metadata": {},
     "output_type": "execute_result"
    }
   ],
   "source": [
    "# testing the model on the test set\n",
    "model.evaluate(test_imgs,test_labels)"
   ]
  }
 ],
 "metadata": {
  "kernelspec": {
   "display_name": "Python 3.6 (tensorflow)",
   "language": "python",
   "name": "tensorflow"
  },
  "language_info": {
   "codemirror_mode": {
    "name": "ipython",
    "version": 3
   },
   "file_extension": ".py",
   "mimetype": "text/x-python",
   "name": "python",
   "nbconvert_exporter": "python",
   "pygments_lexer": "ipython3",
   "version": "3.6.8"
  }
 },
 "nbformat": 4,
 "nbformat_minor": 2
}
